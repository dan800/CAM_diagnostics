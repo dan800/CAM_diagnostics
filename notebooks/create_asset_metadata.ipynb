{
 "cells": [
  {
   "cell_type": "code",
   "execution_count": 9,
   "id": "89726eb7-b951-4a8d-bdb6-dff742d27920",
   "metadata": {},
   "outputs": [],
   "source": [
    "import json\n",
    "import glob"
   ]
  },
  {
   "cell_type": "code",
   "execution_count": 10,
   "id": "e2904042-032c-4fe0-b64d-f9001d5a3364",
   "metadata": {},
   "outputs": [],
   "source": [
    "# function to extract plot types from files in a directory\n",
    "# needs to be 'variable_time_plot.imagetype'\n",
    "# so can't handle variable_CLUBB etc.\n",
    "\n",
    "def get_plt_option(assets_dir, plt_type):\n",
    "    \n",
    "    plt_files = glob.glob(assets_dir+'*'+plt_type)\n",
    "\n",
    "    varList = []\n",
    "    timeList = []\n",
    "    pltList = ['Zonal_Mean', 'NHPolar_Mean', 'SHPolar_Mean', 'LatLon_Mean']\n",
    "        \n",
    "    for plt_file in plt_files:\n",
    "        plt_file_name = plt_file.split('/')[-1]\n",
    "\n",
    "        plt_file_split = plt_file_name.split('_')\n",
    "\n",
    "        if ('CLUBB' not in plt_file_split) \\\n",
    "        and ('CT' not in plt_file_split)\\\n",
    "        and ('DP' not in plt_file_split):\n",
    "            plt_var = plt_file_split[0]\n",
    "            if plt_var not in varList:\n",
    "                varList.append(plt_var)\n",
    "            plt_time = plt_file_split[1]\n",
    "            if plt_time not in timeList:\n",
    "                timeList.append(plt_time)\n",
    "                \n",
    "    return varList, timeList, pltList"
   ]
  },
  {
   "cell_type": "code",
   "execution_count": 13,
   "id": "6f72338e-faf1-403b-bdaf-963a29371db3",
   "metadata": {},
   "outputs": [],
   "source": [
    "# Extract from the image filenames the variable, time averaging and plot type \n",
    "\n",
    "assets_dir = '/glade/work/hannay/ADF/plots/f.e21.FWscHIST.ne30_L48_BL10_cam6_3_041_kzz3_zmtop75.hf.001/ADF/'+\\\n",
    "            'f.e21.FWscHIST.ne30_L48_BL10_cam6_3_041_kzz3_zmtop75.hf.001_'+\\\n",
    "            'vs_f.e21.FWscHIST.ne30_L48_BL10_cam6_3_041_control.hf.001_1980_1989/assets/'\n",
    "\n",
    "pltType = \".png\"\n",
    "varList, timeList, pltList = get_plt_option(assets_dir, pltType)\n",
    "\n",
    "# create Python object (dict):\n",
    "x = {\n",
    "  \"assets_dir\": assets_dir,\n",
    "  \"varList\":varList,\n",
    "  \"timeList\": timeList,\n",
    "  \"pltList\": pltList,\n",
    "  \"pltType\": pltType\n",
    "}\n",
    "\n",
    "# write x into JSON file:  \n",
    "with open(\"ADF_assets.json\", \"w\") as outfile:\n",
    "    json.dump(x, outfile)"
   ]
  }
 ],
 "metadata": {
  "kernelspec": {
   "display_name": "Python [conda env:miniconda3-default]",
   "language": "python",
   "name": "conda-env-miniconda3-default-py"
  },
  "language_info": {
   "codemirror_mode": {
    "name": "ipython",
    "version": 3
   },
   "file_extension": ".py",
   "mimetype": "text/x-python",
   "name": "python",
   "nbconvert_exporter": "python",
   "pygments_lexer": "ipython3",
   "version": "3.9.5"
  }
 },
 "nbformat": 4,
 "nbformat_minor": 5
}
