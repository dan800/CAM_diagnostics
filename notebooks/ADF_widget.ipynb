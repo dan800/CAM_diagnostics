{
 "cells": [
  {
   "cell_type": "code",
   "execution_count": 1,
   "id": "e3b1fb59-562d-4b1d-beca-799be5bfc26f",
   "metadata": {},
   "outputs": [],
   "source": [
    "import matplotlib.pyplot as plt\n",
    "from IPython.display import Image, display\n",
    "from ipywidgets import interactive\n",
    "import glob"
   ]
  },
  {
   "cell_type": "code",
   "execution_count": 2,
   "id": "9b9ad199-c019-40a0-8972-35986589b61b",
   "metadata": {},
   "outputs": [],
   "source": [
    "# function to extract plot types from files in a directory\n",
    "# needs to be 'variable_time_plot.imagetype'\n",
    "# so can't handle variable_CLUBB etc.\n",
    "\n",
    "def get_plt_option(assets_dir, plt_type):\n",
    "    \n",
    "    plt_files = glob.glob(assets_dir+'*'+plt_type)\n",
    "\n",
    "    varList = []\n",
    "    timeList = []\n",
    "    pltList = ['Zonal_Mean', 'NHPolar_Mean', 'SHPolar_Mean', 'LatLon_Mean']\n",
    "        \n",
    "    for plt_file in plt_files:\n",
    "        plt_file_name = plt_file.split('/')[-1]\n",
    "\n",
    "        plt_file_split = plt_file_name.split('_')\n",
    "\n",
    "        if ('CLUBB' not in plt_file_split) \\\n",
    "        and ('CT' not in plt_file_split)\\\n",
    "        and ('DP' not in plt_file_split):\n",
    "            plt_var = plt_file_split[0]\n",
    "            if plt_var not in varList:\n",
    "                varList.append(plt_var)\n",
    "            plt_time = plt_file_split[1]\n",
    "            if plt_time not in timeList:\n",
    "                timeList.append(plt_time)\n",
    "                \n",
    "    return varList, timeList, pltList"
   ]
  },
  {
   "cell_type": "code",
   "execution_count": 3,
   "id": "049b62fc-6e71-4d3a-97e1-8a21df5b62f3",
   "metadata": {},
   "outputs": [],
   "source": [
    "# Extract from the image filenames the variable, time averaging and plot type \n",
    "\n",
    "assets_dir = '/glade/work/hannay/ADF/plots/f.e21.FWscHIST.ne30_L48_BL10_cam6_3_041_kzz3_zmtop75.hf.001/ADF/'+\\\n",
    "            'f.e21.FWscHIST.ne30_L48_BL10_cam6_3_041_kzz3_zmtop75.hf.001_'+\\\n",
    "            'vs_f.e21.FWscHIST.ne30_L48_BL10_cam6_3_041_control.hf.001_1980_1989/assets/'\n",
    "\n",
    "plt_type = '.png'\n",
    "varList, timeList, pltList = get_plt_option(assets_dir, plt_type)\n"
   ]
  },
  {
   "cell_type": "code",
   "execution_count": 5,
   "id": "2398c2b8-bce0-411f-8119-d135a458f964",
   "metadata": {},
   "outputs": [
    {
     "data": {
      "application/vnd.jupyter.widget-view+json": {
       "model_id": "66c2ead8a00b47fab2bb7144f8cfc843",
       "version_major": 2,
       "version_minor": 0
      },
      "text/plain": [
       "interactive(children=(Dropdown(description='varSel', options=('CLDICE', 'FLUT', 'PRECL', 'FSNSC', 'PRECSL', 'C…"
      ]
     },
     "metadata": {},
     "output_type": "display_data"
    }
   ],
   "source": [
    "# create the widget options and renderer\n",
    "\n",
    "def displayPNG(varSel,timeSel,pltSel):\n",
    "    print(varSel,timeSel,pltSel)\n",
    "    imageFile = assets_dir+varSel+'_'+timeSel+'_'+pltSel+plt_type\n",
    "\n",
    "    image = glob.glob(imageFile)\n",
    "    \n",
    "    if image != []: \n",
    "        img = Image(image[0], width=700)\n",
    "        display(img)\n",
    "    else:\n",
    "        plt.scatter((0,360),(-90,90))\n",
    "        plt.text(180, 0, 'not foiund', horizontalalignment='center')\n",
    "    return\n",
    "\n",
    "# set up drop down options\n",
    "w = interactive(displayPNG, \n",
    "                varSel = varList, \n",
    "                timeSel = timeList, \n",
    "                pltSel = pltList)\n",
    "\n",
    "# display the widget\n",
    "output = w.children[-1]\n",
    "display(w)"
   ]
  },
  {
   "cell_type": "code",
   "execution_count": 8,
   "id": "568f9b4b-d45d-433a-872c-a1385ec63608",
   "metadata": {},
   "outputs": [
    {
     "name": "stdout",
     "output_type": "stream",
     "text": [
      "['MAM', 'DJF', 'SON', 'JJA', 'ANN']\n"
     ]
    }
   ],
   "source": [
    "print(timeList)"
   ]
  },
  {
   "cell_type": "code",
   "execution_count": null,
   "id": "1929cd0e-59ed-456f-b710-92eba3eeffeb",
   "metadata": {},
   "outputs": [],
   "source": []
  }
 ],
 "metadata": {
  "kernelspec": {
   "display_name": "Pangeo (2019.09.12 - py3.7)",
   "language": "python",
   "name": "pangeo-2019.09.12"
  },
  "language_info": {
   "codemirror_mode": {
    "name": "ipython",
    "version": 3
   },
   "file_extension": ".py",
   "mimetype": "text/x-python",
   "name": "python",
   "nbconvert_exporter": "python",
   "pygments_lexer": "ipython3",
   "version": "3.7.3"
  }
 },
 "nbformat": 4,
 "nbformat_minor": 5
}
