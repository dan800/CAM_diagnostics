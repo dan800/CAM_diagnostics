{
 "cells": [
  {
   "cell_type": "markdown",
   "id": "8cc1fcc6-ab50-4646-8336-f2aa0ed5bb8d",
   "metadata": {
    "tags": []
   },
   "source": [
    "## ADFAB - an ADF asset browser "
   ]
  },
  {
   "cell_type": "code",
   "execution_count": 1,
   "id": "e3b1fb59-562d-4b1d-beca-799be5bfc26f",
   "metadata": {
    "jupyter": {
     "source_hidden": true
    },
    "tags": []
   },
   "outputs": [],
   "source": [
    "import matplotlib.pyplot as plt\n",
    "from IPython.display import Image, display\n",
    "from ipywidgets import interactive, widgets\n",
    "import glob\n",
    "import json"
   ]
  },
  {
   "cell_type": "code",
   "execution_count": 2,
   "id": "7199658f-3258-4d18-9a6e-9f0f4ac9ca36",
   "metadata": {
    "jupyter": {
     "source_hidden": true
    },
    "tags": []
   },
   "outputs": [],
   "source": [
    "#read in ADF asset metadata\n",
    "# Opening JSON file\n",
    "f = open('ADF_assets.json')\n",
    " \n",
    "# return JSON object as a dictionary\n",
    "adf = json.load(f)\n",
    "\n",
    "assets_dir = adf[\"assets_dir\"]\n",
    "plt_type = adf[\"pltType\"]"
   ]
  },
  {
   "cell_type": "code",
   "execution_count": 3,
   "id": "2398c2b8-bce0-411f-8119-d135a458f964",
   "metadata": {
    "jupyter": {
     "source_hidden": true
    },
    "tags": []
   },
   "outputs": [
    {
     "data": {
      "application/vnd.jupyter.widget-view+json": {
       "model_id": "4264fd45aeb74bf08eb38044c8d5471a",
       "version_major": 2,
       "version_minor": 0
      },
      "text/plain": [
       "interactive(children=(Dropdown(description='Field:', options=('CLDICE', 'FLUT', 'PRECL', 'FSNSC', 'PRECSL', 'C…"
      ]
     },
     "metadata": {},
     "output_type": "display_data"
    }
   ],
   "source": [
    "# create the widget options and renderer\n",
    "\n",
    "def displayPNG(varSel,timeSel,pltSel):\n",
    "    print(varSel,timeSel,pltSel)\n",
    "    imageFile = assets_dir+varSel+'_'+timeSel+'_'+pltSel+plt_type\n",
    "\n",
    "    image = glob.glob(imageFile)\n",
    "    \n",
    "    if image != []: \n",
    "        img = Image(image[0], width=700)\n",
    "        display(img)\n",
    "    else:\n",
    "        plt.scatter((0,360),(-90,90))\n",
    "        plt.text(180, 0, 'not found', horizontalalignment='center')\n",
    "    return\n",
    "\n",
    "# set up drop down options\n",
    "w = interactive(displayPNG, \n",
    "        varSel = widgets.Dropdown(options=adf[\"varList\"], description='Field:'), \n",
    "        timeSel = widgets.Dropdown(options=adf[\"timeList\"], description='Seas/Ann:'),\n",
    "        pltSel = widgets.Dropdown(options=adf[\"pltList\"], description='Plot type:'))\n",
    "\n",
    "# display the widget\n",
    "output = w.children[-1]\n",
    "display(w)"
   ]
  }
 ],
 "metadata": {
  "kernelspec": {
   "display_name": "Pangeo (2019.09.12 - py3.7)",
   "language": "python",
   "name": "pangeo-2019.09.12"
  },
  "language_info": {
   "codemirror_mode": {
    "name": "ipython",
    "version": 3
   },
   "file_extension": ".py",
   "mimetype": "text/x-python",
   "name": "python",
   "nbconvert_exporter": "python",
   "pygments_lexer": "ipython3",
   "version": "3.7.3"
  }
 },
 "nbformat": 4,
 "nbformat_minor": 5
}
